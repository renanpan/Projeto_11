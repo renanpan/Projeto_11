{
 "cells": [
  {
   "cell_type": "markdown",
   "metadata": {},
   "source": [
    "### Informações referentes ao conjunto de dados"
   ]
  },
  {
   "cell_type": "markdown",
   "metadata": {},
   "source": [
    "    Objetivo dos negócios: analisar o histórico de vídeos de tendências no YouTube\n",
    "    Com que frequência o dashboard será usado: pelo menos uma vez por dia\n",
    "    Usuário do dashboard de destino: gerentes de planejamento de anúncios em vídeo\n",
    "    Conteúdo de dados do dashboard:\n",
    "        Vídeos de tendências do passado, divididos por dia e categoria\n",
    "        Vídeos de tendências, divididos por países\n",
    "        Uma tabela de correspondência entre categorias e países\n",
    "    Parâmetros segundo os quais os dados devem ser agrupados:\n",
    "        Data e hora da tendência\n",
    "        Categoria de vídeo\n",
    "        País\n",
    "    Os dados:\n",
    "        Histórico de tendências — valores absolutos com divisão por dia (dois gráficos: números absolutos e proporção percentual)\n",
    "        Eventos, discriminados por países — valores relativos (% de eventos)\n",
    "        A correspondência entre as categorias e os países — valores absolutos (uma tabela)\n",
    "    Importância: todos os gráficos são igualmente importantes\n",
    "    A tabela fica armazenada no banco de dados do youtube , criado especialmente para suas necessidades\n",
    "    Intervalo de atualização de dados: uma vez a cada 24 horas, à meia-noite UTC\n"
   ]
  },
  {
   "cell_type": "markdown",
   "metadata": {},
   "source": [
    "Fontes de dados para o dashboard: os engenheiros de dados prometeram criar uma tabela agregada chamada trending_by_time. Segue sua estrutura:    \n",
    "    \n",
    "    record_id — chave primária\n",
    "    region — país / região geográfica\n",
    "    trending_date — data e hora\n",
    "    category_title — a categoria de vídeo\n",
    "    videos_count — o número de vídeos na seção de tendências"
   ]
  },
  {
   "cell_type": "markdown",
   "metadata": {},
   "source": [
    "### Importando as bibliotecas necessárias e importando o conjunto de dados"
   ]
  },
  {
   "cell_type": "code",
   "execution_count": 8,
   "metadata": {},
   "outputs": [],
   "source": [
    "import pandas as pd\n",
    "import datetime as dt"
   ]
  },
  {
   "cell_type": "code",
   "execution_count": 16,
   "metadata": {},
   "outputs": [],
   "source": [
    "trending = pd.read_csv('trending_by_time.csv')"
   ]
  },
  {
   "cell_type": "markdown",
   "metadata": {},
   "source": [
    "### Analisando a estrutura dos dados"
   ]
  },
  {
   "cell_type": "code",
   "execution_count": 17,
   "metadata": {},
   "outputs": [
    {
     "name": "stdout",
     "output_type": "stream",
     "text": [
      "   record_id  region               trending_date    category_title  \\\n",
      "0          1  France  2017-11-14 00:00:00.000000  Autos & Vehicles   \n",
      "1          2  France  2017-11-15 00:00:00.000000  Autos & Vehicles   \n",
      "2          3  France  2017-11-16 00:00:00.000000  Autos & Vehicles   \n",
      "3          4  France  2017-11-17 00:00:00.000000  Autos & Vehicles   \n",
      "4          5  France  2017-11-18 00:00:00.000000  Autos & Vehicles   \n",
      "\n",
      "   videos_count  \n",
      "0             8  \n",
      "1             2  \n",
      "2             6  \n",
      "3             8  \n",
      "4             4  \n"
     ]
    }
   ],
   "source": [
    "print(trending.head())"
   ]
  },
  {
   "cell_type": "markdown",
   "metadata": {},
   "source": [
    "    Não preciso realizar a transformação dos cabeçalhos das colunas."
   ]
  },
  {
   "cell_type": "code",
   "execution_count": 18,
   "metadata": {},
   "outputs": [
    {
     "name": "stdout",
     "output_type": "stream",
     "text": [
      "<class 'pandas.core.frame.DataFrame'>\n",
      "RangeIndex: 12343 entries, 0 to 12342\n",
      "Data columns (total 5 columns):\n",
      " #   Column          Non-Null Count  Dtype \n",
      "---  ------          --------------  ----- \n",
      " 0   record_id       12343 non-null  int64 \n",
      " 1   region          12343 non-null  object\n",
      " 2   trending_date   12343 non-null  object\n",
      " 3   category_title  12343 non-null  object\n",
      " 4   videos_count    12343 non-null  int64 \n",
      "dtypes: int64(2), object(3)\n",
      "memory usage: 482.3+ KB\n"
     ]
    }
   ],
   "source": [
    "trending.info()"
   ]
  },
  {
   "cell_type": "markdown",
   "metadata": {},
   "source": [
    "    São 12343 informações sendo que nenhuma das colunas do DataFrame apresenta valores nulos.\n",
    "    Preciso transformar o tipo de dados de data de object para datetime. \n",
    "    Além disso seria interessante criar uma coluna separando a data em ano, mês e dia, além de hora."
   ]
  },
  {
   "cell_type": "code",
   "execution_count": 39,
   "metadata": {},
   "outputs": [],
   "source": [
    "#Tranformando 'trending_date' no formato datetime\n",
    "trending['trending_date'] = pd.to_datetime(trending['trending_date'], format=\"%Y-%m-%d %H:%M:%S.%f\")\n",
    "\n",
    "#separando os dados em data, ano, mês, dia e hora\n",
    "trending['date'] = trending['trending_date'].dt.date\n",
    "trending['year'] = trending['trending_date'].dt.year\n",
    "trending['month'] = trending['trending_date'].dt.month\n",
    "trending['day'] = trending['trending_date'].dt.day\n",
    "trending['hour'] = trending['trending_date'].dt.hour"
   ]
  },
  {
   "cell_type": "code",
   "execution_count": 36,
   "metadata": {},
   "outputs": [
    {
     "name": "stdout",
     "output_type": "stream",
     "text": [
      "       record_id         region trending_date    category_title  videos_count  \\\n",
      "11462      11463  United States    2018-05-10    People & Blogs            16   \n",
      "4926        4927          India    2018-02-01            Sports             8   \n",
      "4286        4287          India    2018-05-15   News & Politics            76   \n",
      "1769        1770         France    2018-04-01   News & Politics            26   \n",
      "10309      10310  United States    2018-01-31  Film & Animation            20   \n",
      "\n",
      "             date  month  day  year  hour  \n",
      "11462  2018-05-10      5   10  2018     0  \n",
      "4926   2018-02-01      2    1  2018     0  \n",
      "4286   2018-05-15      5   15  2018     0  \n",
      "1769   2018-04-01      4    1  2018     0  \n",
      "10309  2018-01-31      1   31  2018     0  \n"
     ]
    }
   ],
   "source": [
    "print(trending.sample(5))"
   ]
  },
  {
   "cell_type": "code",
   "execution_count": 40,
   "metadata": {},
   "outputs": [
    {
     "name": "stdout",
     "output_type": "stream",
     "text": [
      "0\n",
      "0\n"
     ]
    }
   ],
   "source": [
    "#conferindo a hora máxima e minima para ver se realmente os dados são coletados uma unica vez\n",
    "print(trending['hour'].max())\n",
    "print(trending['hour'].min())"
   ]
  },
  {
   "cell_type": "markdown",
   "metadata": {},
   "source": [
    "    Já foi me passado que os dados atualizam apenas uma vez por dia a meia noite, e essa informação condiz pois tanto a hora maxima quanto a hora minima é 0."
   ]
  }
 ],
 "metadata": {
  "kernelspec": {
   "display_name": "Python 3",
   "language": "python",
   "name": "python3"
  },
  "language_info": {
   "codemirror_mode": {
    "name": "ipython",
    "version": 3
   },
   "file_extension": ".py",
   "mimetype": "text/x-python",
   "name": "python",
   "nbconvert_exporter": "python",
   "pygments_lexer": "ipython3",
   "version": "3.12.0"
  }
 },
 "nbformat": 4,
 "nbformat_minor": 2
}
