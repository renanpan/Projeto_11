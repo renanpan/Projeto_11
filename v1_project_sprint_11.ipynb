{
 "cells": [
  {
   "cell_type": "markdown",
   "metadata": {},
   "source": [
    "### Importando as bibliotecas necessárias"
   ]
  },
  {
   "cell_type": "code",
   "execution_count": 2,
   "metadata": {},
   "outputs": [],
   "source": [
    "import pandas as pd"
   ]
  },
  {
   "cell_type": "code",
   "execution_count": 3,
   "metadata": {},
   "outputs": [],
   "source": [
    "trending = pd.read_csv('trending_by_time.csv')"
   ]
  },
  {
   "cell_type": "markdown",
   "metadata": {},
   "source": [
    "### Analisando a estrutura dos dados"
   ]
  },
  {
   "cell_type": "code",
   "execution_count": 4,
   "metadata": {},
   "outputs": [
    {
     "name": "stdout",
     "output_type": "stream",
     "text": [
      "   record_id  region               trending_date    category_title  \\\n",
      "0          1  France  2017-11-14 00:00:00.000000  Autos & Vehicles   \n",
      "1          2  France  2017-11-15 00:00:00.000000  Autos & Vehicles   \n",
      "2          3  France  2017-11-16 00:00:00.000000  Autos & Vehicles   \n",
      "3          4  France  2017-11-17 00:00:00.000000  Autos & Vehicles   \n",
      "4          5  France  2017-11-18 00:00:00.000000  Autos & Vehicles   \n",
      "\n",
      "   videos_count  \n",
      "0             8  \n",
      "1             2  \n",
      "2             6  \n",
      "3             8  \n",
      "4             4  \n"
     ]
    }
   ],
   "source": [
    "print(trending.head())"
   ]
  }
 ],
 "metadata": {
  "kernelspec": {
   "display_name": "Python 3",
   "language": "python",
   "name": "python3"
  },
  "language_info": {
   "codemirror_mode": {
    "name": "ipython",
    "version": 3
   },
   "file_extension": ".py",
   "mimetype": "text/x-python",
   "name": "python",
   "nbconvert_exporter": "python",
   "pygments_lexer": "ipython3",
   "version": "3.12.0"
  }
 },
 "nbformat": 4,
 "nbformat_minor": 2
}
